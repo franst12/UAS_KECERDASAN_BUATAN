{
  "cells": [
    {
      "cell_type": "markdown",
      "metadata": {
        "id": "view-in-github",
        "colab_type": "text"
      },
      "source": [
        "<a href=\"https://colab.research.google.com/github/franst12/UAS_KECERDASAN_BUATAN/blob/main/Klasifikasi_Mengenali_Nama_Benda.ipynb\" target=\"_parent\"><img src=\"https://colab.research.google.com/assets/colab-badge.svg\" alt=\"Open In Colab\"/></a>"
      ]
    },
    {
      "cell_type": "markdown",
      "source": [
        "Nama : Drajat Fransetio\n",
        "NIM : STI202303344\n",
        "Kelas : C4.1\n",
        "Matkul : Kecerdasan Buatan"
      ],
      "metadata": {
        "id": "lYz9kr7xbX45"
      }
    },
    {
      "cell_type": "code",
      "source": [
        "# Langkah 1: Mount Google Drive\n",
        "from google.colab import drive\n",
        "drive.mount('/content/drive')\n",
        "\n",
        "# Langkah 2: Install package yang diperlukan\n",
        "!pip install --upgrade --quiet pip\n",
        "!pip install numpy==1.23.5 tensorflow==2.12.0 opencv-python"
      ],
      "metadata": {
        "id": "fuMLO_W5Sy_p"
      },
      "execution_count": null,
      "outputs": []
    },
    {
      "cell_type": "code",
      "source": [
        "# Langkah 3: Import library yang diperlukan\n",
        "import tensorflow as tf\n",
        "import numpy as np\n",
        "import cv2\n",
        "from tensorflow.keras.models import load_model\n",
        "from IPython.display import display, Javascript, HTML\n",
        "from google.colab.output import eval_js\n",
        "from base64 import b64decode\n",
        "import base64\n",
        "\n",
        "print(f\"TensorFlow: {tf.__version__}\")  # Harus 2.12.0\n",
        "print(f\"NumPy: {np.__version__}\")       # Harus 1.23.5"
      ],
      "metadata": {
        "colab": {
          "base_uri": "https://localhost:8080/"
        },
        "id": "xqVAOoHXG0zk",
        "outputId": "efceaa42-6cab-4478-b6a4-300a006a3c54"
      },
      "execution_count": 2,
      "outputs": [
        {
          "output_type": "stream",
          "name": "stdout",
          "text": [
            "TensorFlow: 2.12.0\n",
            "NumPy: 1.23.5\n"
          ]
        }
      ]
    },
    {
      "cell_type": "code",
      "source": [
        "# Langkah 4: Load model dan labels\n",
        "MODEL_PATH = '/content/drive/MyDrive/AI/Dataset/MyDataset/Model2/keras_model.h5'\n",
        "LABEL_PATH = '/content/drive/MyDrive/AI/Dataset/MyDataset/Model2/labels.txt'\n",
        "\n",
        "# Load model\n",
        "model = load_model(MODEL_PATH, compile=False)\n",
        "\n",
        "# Load labels\n",
        "with open(LABEL_PATH, 'r') as f:\n",
        "    labels = [line.strip() for line in f.readlines()]"
      ],
      "metadata": {
        "id": "MXti2377I9vs"
      },
      "execution_count": 3,
      "outputs": []
    },
    {
      "cell_type": "code",
      "source": [
        "!cat '/content/drive/MyDrive/AI/Dataset/MyDataset/Model2/labels.txt'"
      ],
      "metadata": {
        "colab": {
          "base_uri": "https://localhost:8080/"
        },
        "id": "Sa_GoMIebMGO",
        "outputId": "55a31c61-ad80-4da9-a8fa-95307462dea2"
      },
      "execution_count": 4,
      "outputs": [
        {
          "output_type": "stream",
          "name": "stdout",
          "text": [
            "0 Class 1: Satu Gelas Kopi\n",
            "1 Class 2: Dompet\n",
            "2 Class 3: Korek Api\n",
            "3 Class 4: TWS\n",
            "4 Class 5: Handhpone\n",
            "5 Class 6: Kacamata\n"
          ]
        }
      ]
    },
    {
      "cell_type": "code",
      "source": [
        "#Langkah 5\n",
        "# Fungsi prediksi benda\n",
        "def predict_from_frame(frame):\n",
        "    # Preprocessing gambar\n",
        "    resized = cv2.resize(frame, (224, 224))  # Sesuaikan dengan input model\n",
        "    normalized = resized.astype('float32') / 127.5 - 1  # Normalisasi untuk Teachable Machine\n",
        "    input_array = np.expand_dims(normalized, axis=0)\n",
        "\n",
        "    # Lakukan prediksi\n",
        "    predictions = model.predict(input_array)\n",
        "\n",
        "    # Ambil label dan confidence\n",
        "    class_id = np.argmax(predictions[0])\n",
        "    confidence = predictions[0][class_id]\n",
        "    label = labels[class_id]\n",
        "\n",
        "    return label, confidence\n",
        "\n",
        "# Fungsi untuk menampilkan UI\n",
        "def show_camera_ui():\n",
        "    display(HTML(\"\"\"\n",
        "    <div style=\"text-align:center\">\n",
        "        <button id=\"capture-btn\" style=\"\n",
        "            padding:12px 24px;\n",
        "            background:#4CAF50;\n",
        "            color:white;\n",
        "            border:none;\n",
        "            border-radius:4px;\n",
        "            font-size:16px;\n",
        "            margin:10px;\">\n",
        "            CAPTURE\n",
        "        </button>\n",
        "        <div id=\"status\" style=\"margin:10px;\"></div>\n",
        "    </div>\n",
        "    \"\"\"))\n",
        "\n",
        "# Fungsi take_photo\n",
        "def take_photo():\n",
        "    js = Javascript(\"\"\"\n",
        "    async function capture() {\n",
        "        const status = document.getElementById('status');\n",
        "        status.innerHTML = 'Mengakses kamera...';\n",
        "\n",
        "        try {\n",
        "            const video = document.createElement('video');\n",
        "            video.style.display = 'block';\n",
        "            const stream = await navigator.mediaDevices.getUserMedia({video: true});\n",
        "\n",
        "            document.body.appendChild(video);\n",
        "            video.srcObject = stream;\n",
        "            await video.play();\n",
        "\n",
        "            status.innerHTML = 'Kamera siap - Klik CAPTURE';\n",
        "\n",
        "            const dataUrl = await new Promise((resolve) => {\n",
        "                document.getElementById('capture-btn').onclick = () => {\n",
        "                    const canvas = document.createElement('canvas');\n",
        "                    canvas.width = video.videoWidth;\n",
        "                    canvas.height = video.videoHeight;\n",
        "                    canvas.getContext('2d').drawImage(video, 0, 0);\n",
        "                    stream.getVideoTracks()[0].stop();\n",
        "                    video.remove();\n",
        "                    status.innerHTML = 'Mengambil gambar...';\n",
        "                    resolve(canvas.toDataURL('image/jpeg'));\n",
        "                };\n",
        "            });\n",
        "\n",
        "            return dataUrl;\n",
        "        } catch (error) {\n",
        "            status.innerHTML = 'Error: ' + error.message;\n",
        "            return null;\n",
        "        }\n",
        "    }\n",
        "    \"\"\")\n",
        "\n",
        "    display(js)\n",
        "    try:\n",
        "        result = eval_js(\"capture()\")\n",
        "        if not result:\n",
        "            print(\"⚠️ Gagal mengambil gambar dari webcam\")\n",
        "            return None\n",
        "        return result\n",
        "    except Exception as e:\n",
        "        print(f\"❌ Error JavaScript: {str(e)}\")\n",
        "        return None\n",
        "\n",
        "# Fungsi utama\n",
        "def run_detection():\n",
        "    print(\"🟢 Sistem siap\")\n",
        "    show_camera_ui()\n",
        "\n",
        "    while True:\n",
        "        try:\n",
        "            # Ambil foto\n",
        "            data_url = take_photo()\n",
        "            if not data_url:\n",
        "                print(\"⚠️ Tidak ada data gambar, coba lagi\")\n",
        "                continue\n",
        "\n",
        "            # Ekstrak data gambar\n",
        "            header, encoded = data_url.split(\",\", 1)\n",
        "            binary = b64decode(encoded)\n",
        "\n",
        "            # Konversi ke OpenCV format\n",
        "            nparr = np.frombuffer(binary, np.uint8)\n",
        "            frame = cv2.imdecode(nparr, cv2.IMREAD_COLOR)\n",
        "\n",
        "            if frame is None:\n",
        "                print(\"⚠️ Gagal memproses gambar\")\n",
        "                continue\n",
        "\n",
        "            # Prediksi menggunakan fungsi predict_from_frame yang sebenarnya\n",
        "            label, conf = predict_from_frame(frame)\n",
        "\n",
        "            # Konversi frame ke RGB untuk ditampilkan\n",
        "            frame_rgb = cv2.cvtColor(frame, cv2.COLOR_BGR2RGB)\n",
        "\n",
        "            # Tambahkan teks hasil prediksi\n",
        "            frame_rgb = cv2.putText(frame_rgb, f\"{label} ({conf*100:.1f}%)\",\n",
        "                                   (10, 30), cv2.FONT_HERSHEY_SIMPLEX,\n",
        "                                   1, (0, 255, 0), 2)\n",
        "\n",
        "            # Encode gambar untuk ditampilkan\n",
        "            _, img_encoded = cv2.imencode('.jpg', frame_rgb)\n",
        "            display(HTML(f\"\"\"\n",
        "                <div style=\"text-align:center;margin-top:20px\">\n",
        "                    <img src=\"data:image/jpeg;base64,{base64.b64encode(img_encoded).decode()}\"\n",
        "                         style=\"max-width:500px;border:2px solid #4CAF50\">\n",
        "                    <p style=\"margin-top:10px;font-size:16px\">\n",
        "                        Hasil: <strong>{label}</strong> |\n",
        "                        Akurasi: <strong>{conf*100:.1f}%</strong>\n",
        "                    </p>\n",
        "                </div>\n",
        "            \"\"\"))\n",
        "\n",
        "            if input(\"Tekan Enter untuk lanjut atau 'q'+Enter untuk keluar: \").lower() == 'q':\n",
        "                print(\"🔴 Program dihentikan\")\n",
        "                break\n",
        "\n",
        "        except Exception as e:\n",
        "            print(f\"❌ Error: {str(e)}\")\n",
        "            break\n",
        "\n",
        "# Jalankan program\n",
        "run_detection()"
      ],
      "metadata": {
        "id": "RZo5t2QwStvj"
      },
      "execution_count": null,
      "outputs": []
    }
  ],
  "metadata": {
    "colab": {
      "provenance": [],
      "authorship_tag": "ABX9TyNq/tNbndLksl1XoWy4JYjS",
      "include_colab_link": true
    },
    "kernelspec": {
      "display_name": "Python 3",
      "name": "python3"
    },
    "language_info": {
      "name": "python"
    }
  },
  "nbformat": 4,
  "nbformat_minor": 0
}